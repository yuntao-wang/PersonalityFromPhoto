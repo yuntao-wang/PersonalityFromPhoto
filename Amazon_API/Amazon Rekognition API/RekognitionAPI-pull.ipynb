{
 "cells": [
  {
   "cell_type": "code",
   "execution_count": null,
   "metadata": {
    "collapsed": true
   },
   "outputs": [],
   "source": [
    "!conda install boto3"
   ]
  },
  {
   "cell_type": "code",
   "execution_count": null,
   "metadata": {},
   "outputs": [],
   "source": [
    "import boto3\n",
    "import pandas as pd\n",
    "s3 = boto3.resource('s3')\n",
    "\n",
    "s3bucket = s3.Bucket('dataxteamprojectfacebookphotos')"
   ]
  },
  {
   "cell_type": "code",
   "execution_count": null,
   "metadata": {
    "collapsed": true
   },
   "outputs": [],
   "source": [
    "photolist = list()\n",
    "for i in s3bucket.objects.all():\n",
    "    photolist.append(i.key)\n",
    "\n",
    "allphotos = pd.DataFrame(photolist,columns=['fileName'])"
   ]
  },
  {
   "cell_type": "code",
   "execution_count": null,
   "metadata": {
    "collapsed": true
   },
   "outputs": [],
   "source": [
    "bucket='dataxteamprojectfacebookphotos'\n",
    "\n",
    "client=boto3.client('rekognition')\n",
    "\n",
    "Labels = []\n",
    "for i in range(10):\n",
    "    response = client.detect_labels(Image={'S3Object':{'Bucket':bucket,'Name':allphotos.fileName[i]}},MinConfidence=50,MaxLabels=50)\n",
    "    Labels.append(response['Labels'])\n",
    "    \n",
    "xPhotos = photolist[0:10]\n",
    "\n",
    "pilot = pd.DataFrame(xPhotos,columns=['fileName'])\n",
    "pilot['Labels'] = Labels"
   ]
  },
  {
   "cell_type": "code",
   "execution_count": null,
   "metadata": {
    "collapsed": true
   },
   "outputs": [],
   "source": [
    "faceDetails = []\n",
    "for i in range(10):\n",
    "    response1 = client.detect_faces(Image={'S3Object':{'Bucket':bucket,'Name':allphotos.fileName[i]}},Attributes=['ALL'])\n",
    "    faceDetails.append(response1['FaceDetails'])\n",
    "\n",
    "pilot['FaceDetails'] = faceDetails"
   ]
  },
  {
   "cell_type": "code",
   "execution_count": null,
   "metadata": {
    "collapsed": true
   },
   "outputs": [],
   "source": [
    "#pilot.loc[0,'Labels'][0]['Name']\n",
    "#list(pilot.loc[0,'FaceDetails'][0].keys())\n",
    "\n",
    "#temp = []\n",
    "#for i in pilot.loc[:,'Labels']:\n",
    "#    for z in i:\n",
    "#        temp.append(z['Name'])"
   ]
  }
 ],
 "metadata": {
  "kernelspec": {
   "display_name": "Python 3",
   "language": "python",
   "name": "python3"
  },
  "language_info": {
   "codemirror_mode": {
    "name": "ipython",
    "version": 3
   },
   "file_extension": ".py",
   "mimetype": "text/x-python",
   "name": "python",
   "nbconvert_exporter": "python",
   "pygments_lexer": "ipython3",
   "version": "3.6.1"
  }
 },
 "nbformat": 4,
 "nbformat_minor": 2
}
